{
 "cells": [
  {
   "cell_type": "code",
   "execution_count": 9,
   "id": "382a3ac3",
   "metadata": {},
   "outputs": [
    {
     "name": "stdout",
     "output_type": "stream",
     "text": [
      "Enter your age:   5\n",
      "User is not eligible to vote\n",
      "User Age is 5\n"
     ]
    }
   ],
   "source": [
    "\n",
    "\n",
    "#Write a program to check whether user is eligible to vote or not\n",
    "Age= int(input(\"Enter your age:   \"))\n",
    "if Age>=18:\n",
    "    print(\"User is eligible to vote\")\n",
    "else:\n",
    "    print(\"User is not eligible to vote\")\n",
    "print(\"User Age is\",Age )\n",
    "\n",
    "\n"
   ]
  },
  {
   "cell_type": "code",
   "execution_count": 10,
   "id": "e1c16f4d",
   "metadata": {},
   "outputs": [
    {
     "name": "stdout",
     "output_type": "stream",
     "text": [
      "Enter the number:   5\n",
      "The number is positive\n"
     ]
    }
   ],
   "source": [
    "#Check the given number is positive or negative\n",
    "num= int(input(\"Enter the number:   \"))\n",
    "if num>=0:\n",
    "    print(\"The number is positive\")\n",
    "else:\n",
    "    print(\"The number is negative\")"
   ]
  },
  {
   "cell_type": "code",
   "execution_count": 11,
   "id": "0eb2c56a",
   "metadata": {},
   "outputs": [
    {
     "name": "stdout",
     "output_type": "stream",
     "text": [
      "Enter the number:   34\n",
      "The number is even\n",
      "The number is not divisible by 4\n"
     ]
    }
   ],
   "source": [
    "\n",
    "\n",
    "#Check whether the given number is even or odd, if it's even which is divisible by four or not\n",
    "num= int(input(\"Enter the number:   \"))\n",
    "if num%2==0:\n",
    "    print(\"The number is even\")\n",
    "    if num%4==0:\n",
    "        print(\"The number is divisible by 4\")\n",
    "    else:\n",
    "        print(\"The number is not divisible by 4\")\n",
    "    \n",
    "else:\n",
    "    print(\"The number is odd\")\n",
    "\n"
   ]
  },
  {
   "cell_type": "code",
   "execution_count": 12,
   "id": "d900cc7f",
   "metadata": {},
   "outputs": [
    {
     "name": "stdout",
     "output_type": "stream",
     "text": [
      "Enter the percentage:   35\n",
      "Student is passed  with Grade-B\n"
     ]
    }
   ],
   "source": [
    "#Write a program to print student grade based on percentage like distinction,pass (or) fail\n",
    "percentage=float(input(\"Enter the percentage:   \"))\n",
    "if percentage>=85:\n",
    "    print(\"Student is passed at Dsitinction with Grade-A\")\n",
    "elif percentage>=35:\n",
    "    print(\"Student is passed  with Grade-B\")\n",
    "else:\n",
    "    print(\"Student is failed with Grade-C\")\n"
   ]
  },
  {
   "cell_type": "code",
   "execution_count": 13,
   "id": "f319b98b",
   "metadata": {},
   "outputs": [
    {
     "name": "stdout",
     "output_type": "stream",
     "text": [
      "Enter Year: 2020\n",
      "2020 is a Leap Year\n"
     ]
    }
   ],
   "source": [
    "#Check the given year is leap or not\n",
    "year = int(input(\"Enter Year: \"))\n",
    "if year % 4 == 0 and year % 100 != 0:\n",
    "    print(year, \"is a Leap Year\")\n",
    "elif year % 100 == 0:\n",
    "    print(year, \"is not a Leap Year\")\n",
    "elif year % 400 ==0:\n",
    "    print(year, \"is a Leap Year\")\n",
    "else:\n",
    "    print(year, \"is not a Leap Year\")"
   ]
  },
  {
   "cell_type": "code",
   "execution_count": 8,
   "id": "ba028284",
   "metadata": {},
   "outputs": [
    {
     "data": {
      "text/plain": [
       "2"
      ]
     },
     "execution_count": 8,
     "metadata": {},
     "output_type": "execute_result"
    }
   ],
   "source": [
    "2 or 46"
   ]
  },
  {
   "cell_type": "code",
   "execution_count": null,
   "id": "e67e0ec0",
   "metadata": {},
   "outputs": [],
   "source": []
  },
  {
   "cell_type": "code",
   "execution_count": null,
   "id": "3b99a924",
   "metadata": {},
   "outputs": [],
   "source": []
  },
  {
   "cell_type": "code",
   "execution_count": null,
   "id": "99fdf64e",
   "metadata": {},
   "outputs": [],
   "source": []
  },
  {
   "cell_type": "code",
   "execution_count": null,
   "id": "881f1923",
   "metadata": {},
   "outputs": [],
   "source": []
  },
  {
   "cell_type": "code",
   "execution_count": null,
   "id": "8f5bc453",
   "metadata": {},
   "outputs": [],
   "source": []
  },
  {
   "cell_type": "code",
   "execution_count": null,
   "id": "8a0ff491",
   "metadata": {},
   "outputs": [],
   "source": []
  }
 ],
 "metadata": {
  "kernelspec": {
   "display_name": "Python 3",
   "language": "python",
   "name": "python3"
  },
  "language_info": {
   "codemirror_mode": {
    "name": "ipython",
    "version": 3
   },
   "file_extension": ".py",
   "mimetype": "text/x-python",
   "name": "python",
   "nbconvert_exporter": "python",
   "pygments_lexer": "ipython3",
   "version": "3.8.8"
  }
 },
 "nbformat": 4,
 "nbformat_minor": 5
}
