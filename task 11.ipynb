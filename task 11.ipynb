{
 "cells": [
  {
   "cell_type": "markdown",
   "id": "9c583c2f",
   "metadata": {},
   "source": [
    "\n",
    "\n",
    "* Take a list of years between 1800 to 2030 and also display all the leap years which is divisible by 5.\n"
   ]
  },
  {
   "cell_type": "code",
   "execution_count": 1,
   "id": "e045bd5f",
   "metadata": {},
   "outputs": [
    {
     "name": "stdout",
     "output_type": "stream",
     "text": [
      "[1820, 1840, 1860, 1880, 1920, 1940, 1960, 1980, 2000, 2020]\n",
      "These are the leap years from 1800 to 2300 and they are divisible by 5 \n"
     ]
    }
   ],
   "source": [
    "y1=1800\n",
    "y2=2030\n",
    "print([i for i in range(y1, y2 + 1) if (i%4 == 0 and i%100 != 0 and i%5==0) or (i%400 == 0)])\n",
    "print(\"These are the leap years from 1800 to 2300 and they are divisible by 5 \")"
   ]
  },
  {
   "cell_type": "code",
   "execution_count": null,
   "id": "c29fb62a",
   "metadata": {},
   "outputs": [],
   "source": []
  }
 ],
 "metadata": {
  "kernelspec": {
   "display_name": "Python 3",
   "language": "python",
   "name": "python3"
  },
  "language_info": {
   "codemirror_mode": {
    "name": "ipython",
    "version": 3
   },
   "file_extension": ".py",
   "mimetype": "text/x-python",
   "name": "python",
   "nbconvert_exporter": "python",
   "pygments_lexer": "ipython3",
   "version": "3.8.8"
  }
 },
 "nbformat": 4,
 "nbformat_minor": 5
}
