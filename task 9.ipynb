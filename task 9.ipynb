{
 "cells": [
  {
   "cell_type": "code",
   "execution_count": 1,
   "id": "d2938ca6",
   "metadata": {},
   "outputs": [],
   "source": [
    "import random\n",
    "class Mail:\n",
    "    def __init__(self):\n",
    "        self.v1 = 000\n",
    "        self.v2 = 999\n",
    "    def A(self):\n",
    "            print(random.randint(self.v1,self.v2))\n",
    "        \n",
    "class Phone(Mail):\n",
    "    def B(self):\n",
    "        print(random.randint(self.v1,self.v2))"
   ]
  },
  {
   "cell_type": "code",
   "execution_count": 2,
   "id": "8294fe20",
   "metadata": {},
   "outputs": [
    {
     "name": "stdout",
     "output_type": "stream",
     "text": [
      "839\n"
     ]
    }
   ],
   "source": [
    "#3-Digit OTP from Mail Class\n",
    "obj_1 = Mail()\n",
    "obj_1.A()"
   ]
  },
  {
   "cell_type": "code",
   "execution_count": 3,
   "id": "a436bb69",
   "metadata": {},
   "outputs": [
    {
     "name": "stdout",
     "output_type": "stream",
     "text": [
      "879\n"
     ]
    }
   ],
   "source": [
    "#3-Digit OTP from Phone Class\n",
    "obj_2=Phone()\n",
    "obj_2.B()"
   ]
  },
  {
   "cell_type": "code",
   "execution_count": 6,
   "id": "87625387",
   "metadata": {},
   "outputs": [],
   "source": [
    "import random\n",
    "class Mail:\n",
    "    def __init__(self):\n",
    "        self.a = random.randint(000,999)\n",
    "class Phone:\n",
    "    def __init__(self):\n",
    "        self.b = random.randint(000,999)\n",
    "        \n",
    "class med(Phone,Mail):\n",
    "    def __init__(self):\n",
    "        Mail.__init__(self)\n",
    "        Phone.__init__(self)\n",
    "        print(\"6-Digit OTP: \",self.a,self.b)"
   ]
  },
  {
   "cell_type": "code",
   "execution_count": 7,
   "id": "517fc775",
   "metadata": {},
   "outputs": [
    {
     "name": "stdout",
     "output_type": "stream",
     "text": [
      "6-Digit OTP:  980 466\n"
     ]
    }
   ],
   "source": [
    "obj_1=med()"
   ]
  },
  {
   "cell_type": "code",
   "execution_count": null,
   "id": "591c4d99",
   "metadata": {},
   "outputs": [],
   "source": []
  }
 ],
 "metadata": {
  "kernelspec": {
   "display_name": "Python 3",
   "language": "python",
   "name": "python3"
  },
  "language_info": {
   "codemirror_mode": {
    "name": "ipython",
    "version": 3
   },
   "file_extension": ".py",
   "mimetype": "text/x-python",
   "name": "python",
   "nbconvert_exporter": "python",
   "pygments_lexer": "ipython3",
   "version": "3.8.8"
  }
 },
 "nbformat": 4,
 "nbformat_minor": 5
}
