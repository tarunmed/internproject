{
 "cells": [
  {
   "cell_type": "code",
   "execution_count": 1,
   "id": "0a2b3f07",
   "metadata": {},
   "outputs": [
    {
     "name": "stdout",
     "output_type": "stream",
     "text": [
      "Enter start year:2001\n",
      "Enter End year:2021\n",
      "List of leap years:\n",
      "2004\n",
      "2008\n",
      "2012\n",
      "2016\n",
      "2020\n"
     ]
    }
   ],
   "source": [
    "#create a function for finding the leap years within the given range\n",
    "def leap_year():\n",
    "    startYear = int(input(\"Enter start year:\"))\n",
    "    endYear = int(input(\"Enter End year:\"))\n",
    "    print(\"List of leap years:\")\n",
    "    for x in range(startYear, endYear):\n",
    "          if (0 == x % 4) and (0 != x % 100) or (0 == x % 400):\n",
    "            print(x)\n",
    "leap_year()"
   ]
  },
  {
   "cell_type": "code",
   "execution_count": 2,
   "id": "6b704ecd",
   "metadata": {},
   "outputs": [
    {
     "name": "stdout",
     "output_type": "stream",
     "text": [
      "Enter  first number:200\n",
      "Enter last number:700\n",
      "370\n",
      "371\n",
      "407\n"
     ]
    }
   ],
   "source": [
    "#Create a function for getting the armstrong numbers within the given range\n",
    "def armstrong():\n",
    "    first_num = int(input(\"Enter  first number:\"))  \n",
    "    last_num= int(input(\"Enter last number:\"))  \n",
    "    for num in range(first_num,last_num + 1):\n",
    "        order = len(str(num))\n",
    "        sum = 0\n",
    "        temp = num\n",
    "        while temp > 0:\n",
    "            digit = temp % 10\n",
    "            sum += digit ** order\n",
    "            temp //= 10\n",
    "        if num == sum:\n",
    "            print(num)\n",
    "\n",
    "armstrong()"
   ]
  },
  {
   "cell_type": "code",
   "execution_count": 3,
   "id": "8bdab854",
   "metadata": {},
   "outputs": [
    {
     "name": "stdout",
     "output_type": "stream",
     "text": [
      "Enter first number:1\n",
      "Enter second number:59\n",
      "2\n",
      "3\n",
      "5\n",
      "7\n",
      "11\n",
      "13\n",
      "17\n",
      "19\n",
      "23\n",
      "29\n",
      "31\n",
      "37\n",
      "41\n",
      "43\n",
      "47\n",
      "53\n",
      "59\n"
     ]
    }
   ],
   "source": [
    "#create a function for getting the prime numbers within the range\n",
    "def prime():\n",
    "    first_num  = int(input(\"Enter first number:\"))  \n",
    "    last_num= int(input(\"Enter second number:\"))\n",
    "    for num in range(first_num, last_num + 1):\n",
    "        if num > 1:\n",
    "            for i in range(2, num):\n",
    "                if (num % i) == 0:\n",
    "                    break\n",
    "            else:\n",
    "                print(num)\n",
    "prime()"
   ]
  },
  {
   "cell_type": "code",
   "execution_count": 4,
   "id": "e95ee982",
   "metadata": {},
   "outputs": [
    {
     "name": "stdout",
     "output_type": "stream",
     "text": [
      "Enter the string:  srm university\n"
     ]
    },
    {
     "data": {
      "text/plain": [
       "13"
      ]
     },
     "execution_count": 4,
     "metadata": {},
     "output_type": "execute_result"
    }
   ],
   "source": [
    "#Create a function for finding the count of elements in a string. \"Srm university\"\n",
    "String=str(input(\"Enter the string:  \"))\n",
    "\n",
    "def countletter(String):\n",
    "    lcount=0\n",
    "    \n",
    "    for i in String:\n",
    "        if i.isalpha():\n",
    "            lcount+=1\n",
    "    return lcount\n",
    "countletter(String)"
   ]
  },
  {
   "cell_type": "code",
   "execution_count": null,
   "id": "73966907",
   "metadata": {},
   "outputs": [],
   "source": []
  }
 ],
 "metadata": {
  "kernelspec": {
   "display_name": "Python 3",
   "language": "python",
   "name": "python3"
  },
  "language_info": {
   "codemirror_mode": {
    "name": "ipython",
    "version": 3
   },
   "file_extension": ".py",
   "mimetype": "text/x-python",
   "name": "python",
   "nbconvert_exporter": "python",
   "pygments_lexer": "ipython3",
   "version": "3.8.8"
  }
 },
 "nbformat": 4,
 "nbformat_minor": 5
}
