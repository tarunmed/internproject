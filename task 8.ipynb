{
 "cells": [
  {
   "cell_type": "code",
   "execution_count": null,
   "id": "ea48b4aa",
   "metadata": {},
   "outputs": [],
   "source": [
    "#Testcase-1\n",
    "import camelcase\n",
    "import emoji\n",
    "import pyttsx3\n",
    "\n",
    "data=input(\"Enter the data:   \")\n",
    "x=camelcase.CamelCase()\n",
    "\n",
    "\n",
    "if data==x.hump(data):\n",
    "     print(u\"\\U0001F44D\")\n",
    "    \n",
    "else:\n",
    "    print(x.hump(data))\n",
    "    spk = pyttsx3.init()\n",
    "    spk.say(\"Successfully converted your data into camel case\")\n",
    "    spk.runAndWait()"
   ]
  },
  {
   "cell_type": "code",
   "execution_count": null,
   "id": "b8c0ff79",
   "metadata": {},
   "outputs": [],
   "source": [
    "#Testcase-2\n",
    "import camelcase\n",
    "import emoji\n",
    "import pyttsx3\n",
    "\n",
    "data=input(\"Enter the data:   \")\n",
    "x=camelcase.CamelCase()\n",
    "\n",
    "\n",
    "if data==x.hump(data):\n",
    "     print(u\"\\U0001F44D\")\n",
    "    \n",
    "else:\n",
    "    print(x.hump(data))\n",
    "    spk = pyttsx3.init()\n",
    "    spk.say(\"Successfully converted your data into camel case\")"
   ]
  },
  {
   "cell_type": "code",
   "execution_count": null,
   "id": "eaf99162",
   "metadata": {},
   "outputs": [],
   "source": []
  }
 ],
 "metadata": {
  "kernelspec": {
   "display_name": "Python 3",
   "language": "python",
   "name": "python3"
  },
  "language_info": {
   "codemirror_mode": {
    "name": "ipython",
    "version": 3
   },
   "file_extension": ".py",
   "mimetype": "text/x-python",
   "name": "python",
   "nbconvert_exporter": "python",
   "pygments_lexer": "ipython3",
   "version": "3.8.8"
  }
 },
 "nbformat": 4,
 "nbformat_minor": 5
}
