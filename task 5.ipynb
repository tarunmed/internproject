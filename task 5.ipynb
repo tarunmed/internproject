{
 "cells": [
  {
   "cell_type": "markdown",
   "id": "89164cca",
   "metadata": {},
   "source": [
    "# Task 5\n",
    "\n",
    "\n",
    "    Write a Python script to print a dictionary where the keys are numbers between 1 and 15 (both included) and the values are square of keys\n",
    "    Write a Python program to map two lists into a dictionary\n",
    "    Write a Python program to sort a list alphabetically in a dictionary\n",
    "        input : {'n1': [2, 3, 1], 'n2': [5, 1, 2], 'n3': [3, 2, 4]}\n",
    "        output : {'n1': [1, 2, 3], 'n2': [1, 2, 5], 'n3': [2, 3, 4]}\n",
    "\n",
    "\n"
   ]
  },
  {
   "cell_type": "code",
   "execution_count": 1,
   "id": "8447c87d",
   "metadata": {},
   "outputs": [
    {
     "name": "stdout",
     "output_type": "stream",
     "text": [
      "Enter the number 13\n",
      "{1: 1, 2: 4, 3: 9, 4: 16, 5: 25, 6: 36, 7: 49, 8: 64, 9: 81, 10: 100, 11: 121, 12: 144, 13: 169}\n"
     ]
    }
   ],
   "source": [
    "n=int(input(\"Enter the number \"))\n",
    "dictionary = dict()\n",
    "\n",
    "for i in range(1,n+1):\n",
    "    dictionary[i]=i*i\n",
    "\n",
    "print(dictionary)"
   ]
  },
  {
   "cell_type": "code",
   "execution_count": null,
   "id": "925b3ff2",
   "metadata": {},
   "outputs": [],
   "source": [
    "\n",
    "\n",
    "List1 = []\n",
    "List2 = []\n",
    "number = int(input(\"Enter the  Number of lists: \"))\n",
    "for i in range(0, number):\n",
    "    x = input(\"Enter the key-\" + str(i + 1) + \":\")\n",
    "    List1.append(x)\n",
    "for i in range(0, number):\n",
    "    x = input(\"Enter the Value-\" + str(i + 1) + \":\")\n",
    "    List2.append(x)\n",
    "    \n",
    "dict = dict(zip(List1, List2))\n",
    "print(\"Dictionary Items:  \",  dict)\n",
    "\n"
   ]
  },
  {
   "cell_type": "code",
   "execution_count": 12,
   "id": "aa952a34",
   "metadata": {},
   "outputs": [
    {
     "name": "stdout",
     "output_type": "stream",
     "text": [
      "{'n1': [1, 2, 3], 'n2': [1, 2, 5], 'n3': [2, 3, 4]}\n"
     ]
    }
   ],
   "source": [
    "d = {'n1': [2, 3, 1], 'n2': [5, 1, 2], 'n3': [3, 2, 4]}\n",
    "sorted_dict = {x: sorted(y) for x, y in d.items()}\n",
    "print(sorted_dict)"
   ]
  },
  {
   "cell_type": "code",
   "execution_count": null,
   "id": "354a12c8",
   "metadata": {},
   "outputs": [],
   "source": []
  }
 ],
 "metadata": {
  "kernelspec": {
   "display_name": "Python 3",
   "language": "python",
   "name": "python3"
  },
  "language_info": {
   "codemirror_mode": {
    "name": "ipython",
    "version": 3
   },
   "file_extension": ".py",
   "mimetype": "text/x-python",
   "name": "python",
   "nbconvert_exporter": "python",
   "pygments_lexer": "ipython3",
   "version": "3.8.8"
  }
 },
 "nbformat": 4,
 "nbformat_minor": 5
}
