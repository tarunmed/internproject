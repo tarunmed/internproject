{
 "cells": [
  {
   "cell_type": "code",
   "execution_count": 4,
   "id": "931026f4",
   "metadata": {},
   "outputs": [
    {
     "name": "stdout",
     "output_type": "stream",
     "text": [
      "1) Hyderabad \n",
      "2) Bangalore \n",
      "3) Mumbai \n",
      "4) Kolkata \n",
      "5) Chennai \n",
      "6) Lucknow \n",
      "7) Vizag \n",
      "\n"
     ]
    }
   ],
   "source": [
    "#creating the file using wirte method\n",
    "#adding lines to the file\n",
    "f = open(\"file.txt\",'w')\n",
    "f.write(\"1) Hyderabad \\n\")\n",
    "f.write(\"2) Bangalore \\n\")\n",
    "f.write(\"3) Mumbai \\n\")\n",
    "f.write(\"4) Kolkata \\n\")\n",
    "f.write(\"5) Chennai \\n\")\n",
    "f.write(\"6) Lucknow \\n\")\n",
    "f.write(\"7) Vizag \\n\")\n",
    "\n",
    "#read the file\n",
    "f = open('file.txt')\n",
    "print(f.read())\n",
    "f.close()"
   ]
  },
  {
   "cell_type": "code",
   "execution_count": 5,
   "id": "4a7ffd27",
   "metadata": {},
   "outputs": [
    {
     "name": "stdout",
     "output_type": "stream",
     "text": [
      "['3) Mumbai \\n', '4) Kolkata \\n', '5) Chennai \\n', '6) Lucknow \\n', '7) Vizag \\n']\n"
     ]
    }
   ],
   "source": [
    "#printing the last five line from the file\n",
    "f = open(\"file.txt\", \"r\")\n",
    "lines = f.readlines()\n",
    "last_lines = lines[-5:]\n",
    "\n",
    "print(last_lines)\n",
    "f.close()"
   ]
  },
  {
   "cell_type": "code",
   "execution_count": 7,
   "id": "8b5e26ef",
   "metadata": {},
   "outputs": [
    {
     "name": "stdout",
     "output_type": "stream",
     "text": [
      "1) India \n",
      "2) America \n",
      "\n"
     ]
    }
   ],
   "source": [
    "#Create a function for appending data into the file\n",
    "\n",
    "f = open('file1.txt','w')\n",
    "f.write(\"1) India \\n\")\n",
    "f.write(\"2) America \\n\")\n",
    "f.close()\n",
    "\n",
    "f = open('file1.txt')\n",
    "print(f.read())\n",
    "f.close()"
   ]
  },
  {
   "cell_type": "code",
   "execution_count": 8,
   "id": "2673c2ef",
   "metadata": {},
   "outputs": [
    {
     "name": "stdout",
     "output_type": "stream",
     "text": [
      "1) India \n",
      "2) America \n",
      "3) England \n",
      "4) Pakistan \n",
      "\n"
     ]
    }
   ],
   "source": [
    "#creating function to append the data \n",
    "def append():\n",
    "    f=open(\"file1.txt\", \"a+\")\n",
    "    f.write(\"3) England \\n\")\n",
    "    f.write(\"4) Pakistan \\n\") \n",
    "    f.close()\n",
    "    \n",
    "append()\n",
    "\n",
    "f = open('file1.txt')\n",
    "print(f.read())\n",
    "f.close()"
   ]
  },
  {
   "cell_type": "code",
   "execution_count": 9,
   "id": "4bb30f0d",
   "metadata": {},
   "outputs": [
    {
     "name": "stdout",
     "output_type": "stream",
     "text": [
      "Hello Students! \n",
      "SRM UNIVERSITY - CHENNAI. \n",
      "\n"
     ]
    }
   ],
   "source": [
    "import re\n",
    "f = open('file2.txt','w')\n",
    "f.write(\"Hello Students! \\n\")\n",
    "f.write(\"SRM UNIVERSITY - CHENNAI. \\n\")\n",
    "f.close()\n",
    "\n",
    "\n",
    "#reading the file\n",
    "f = open('file2.txt')\n",
    "print(f.read())"
   ]
  },
  {
   "cell_type": "code",
   "execution_count": 10,
   "id": "622106b7",
   "metadata": {},
   "outputs": [
    {
     "name": "stdout",
     "output_type": "stream",
     "text": [
      "Hello Students! \n",
      "SRM UNIVERSITY - AMARAVATI. \n",
      "\n"
     ]
    }
   ],
   "source": [
    "with open('file2.txt','r+') as f:\n",
    "    text = f.read()\n",
    "    text = re.sub('CHENNAI', 'AMARAVATI', text)\n",
    "    f.seek(0)\n",
    "    f.write(text)\n",
    "    f.truncate()\n",
    "    \n",
    "#reading the file\n",
    "f = open('file2.txt')\n",
    "print(f.read())"
   ]
  },
  {
   "cell_type": "code",
   "execution_count": null,
   "id": "3b563555",
   "metadata": {},
   "outputs": [],
   "source": []
  }
 ],
 "metadata": {
  "kernelspec": {
   "display_name": "Python 3",
   "language": "python",
   "name": "python3"
  },
  "language_info": {
   "codemirror_mode": {
    "name": "ipython",
    "version": 3
   },
   "file_extension": ".py",
   "mimetype": "text/x-python",
   "name": "python",
   "nbconvert_exporter": "python",
   "pygments_lexer": "ipython3",
   "version": "3.8.8"
  }
 },
 "nbformat": 4,
 "nbformat_minor": 5
}
