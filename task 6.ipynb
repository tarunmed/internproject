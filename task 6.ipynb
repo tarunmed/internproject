{
 "cells": [
  {
   "cell_type": "code",
   "execution_count": 1,
   "id": "26f88114",
   "metadata": {},
   "outputs": [
    {
     "name": "stdout",
     "output_type": "stream",
     "text": [
      "5841\n",
      "1234\n",
      "8797\n"
     ]
    }
   ],
   "source": [
    "\n",
    "\n",
    "#Write a pattern to display 4 digit numbers from list1\n",
    "import re\n",
    "list1 = ['5841', '987654321', '453267', '1234', '675', '8797']\n",
    "for i in list1:\n",
    "    if re.findall('^[0-9]{4}$', i):\n",
    "        print(i)\n",
    "\n"
   ]
  },
  {
   "cell_type": "code",
   "execution_count": 2,
   "id": "c9eed29d",
   "metadata": {},
   "outputs": [
    {
     "name": "stdout",
     "output_type": "stream",
     "text": [
      "9876543210\n",
      "8123456789\n",
      "7890123456\n"
     ]
    }
   ],
   "source": [
    "#Validate a phone number using patterns. Try to do this task using below pattern or your own pattern\n",
    "ph_list = ['9876543210', '8123456789', '7890123456', '789654', '1234567890']\n",
    "for i in ph_list:\n",
    "    if re.findall('^[6-9]{1}[0-9]{9}$', i):\n",
    "        print(i)"
   ]
  },
  {
   "cell_type": "code",
   "execution_count": null,
   "id": "47ce9bcb",
   "metadata": {},
   "outputs": [],
   "source": []
  }
 ],
 "metadata": {
  "kernelspec": {
   "display_name": "Python 3",
   "language": "python",
   "name": "python3"
  },
  "language_info": {
   "codemirror_mode": {
    "name": "ipython",
    "version": 3
   },
   "file_extension": ".py",
   "mimetype": "text/x-python",
   "name": "python",
   "nbconvert_exporter": "python",
   "pygments_lexer": "ipython3",
   "version": "3.8.8"
  }
 },
 "nbformat": 4,
 "nbformat_minor": 5
}
