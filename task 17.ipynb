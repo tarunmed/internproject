{
 "cells": [
  {
   "cell_type": "code",
   "execution_count": 1,
   "id": "2491a694",
   "metadata": {},
   "outputs": [],
   "source": [
    "import numpy as np\n",
    "import pandas as pd\n",
    "import matplotlib.pyplot as plt\n",
    "import seaborn as sns"
   ]
  },
  {
   "cell_type": "code",
   "execution_count": 2,
   "id": "07fc2ef6",
   "metadata": {},
   "outputs": [
    {
     "data": {
      "text/html": [
       "<div>\n",
       "<style scoped>\n",
       "    .dataframe tbody tr th:only-of-type {\n",
       "        vertical-align: middle;\n",
       "    }\n",
       "\n",
       "    .dataframe tbody tr th {\n",
       "        vertical-align: top;\n",
       "    }\n",
       "\n",
       "    .dataframe thead th {\n",
       "        text-align: right;\n",
       "    }\n",
       "</style>\n",
       "<table border=\"1\" class=\"dataframe\">\n",
       "  <thead>\n",
       "    <tr style=\"text-align: right;\">\n",
       "      <th></th>\n",
       "      <th>Gender</th>\n",
       "      <th>Age Range</th>\n",
       "      <th>Head Size(cm^3)</th>\n",
       "      <th>Brain Weight(grams)</th>\n",
       "    </tr>\n",
       "  </thead>\n",
       "  <tbody>\n",
       "    <tr>\n",
       "      <th>0</th>\n",
       "      <td>1</td>\n",
       "      <td>1</td>\n",
       "      <td>4512</td>\n",
       "      <td>1530</td>\n",
       "    </tr>\n",
       "    <tr>\n",
       "      <th>1</th>\n",
       "      <td>1</td>\n",
       "      <td>1</td>\n",
       "      <td>3738</td>\n",
       "      <td>1297</td>\n",
       "    </tr>\n",
       "    <tr>\n",
       "      <th>2</th>\n",
       "      <td>1</td>\n",
       "      <td>1</td>\n",
       "      <td>4261</td>\n",
       "      <td>1335</td>\n",
       "    </tr>\n",
       "    <tr>\n",
       "      <th>3</th>\n",
       "      <td>1</td>\n",
       "      <td>1</td>\n",
       "      <td>3777</td>\n",
       "      <td>1282</td>\n",
       "    </tr>\n",
       "    <tr>\n",
       "      <th>4</th>\n",
       "      <td>1</td>\n",
       "      <td>1</td>\n",
       "      <td>4177</td>\n",
       "      <td>1590</td>\n",
       "    </tr>\n",
       "    <tr>\n",
       "      <th>...</th>\n",
       "      <td>...</td>\n",
       "      <td>...</td>\n",
       "      <td>...</td>\n",
       "      <td>...</td>\n",
       "    </tr>\n",
       "    <tr>\n",
       "      <th>232</th>\n",
       "      <td>2</td>\n",
       "      <td>2</td>\n",
       "      <td>3214</td>\n",
       "      <td>1110</td>\n",
       "    </tr>\n",
       "    <tr>\n",
       "      <th>233</th>\n",
       "      <td>2</td>\n",
       "      <td>2</td>\n",
       "      <td>3394</td>\n",
       "      <td>1215</td>\n",
       "    </tr>\n",
       "    <tr>\n",
       "      <th>234</th>\n",
       "      <td>2</td>\n",
       "      <td>2</td>\n",
       "      <td>3233</td>\n",
       "      <td>1104</td>\n",
       "    </tr>\n",
       "    <tr>\n",
       "      <th>235</th>\n",
       "      <td>2</td>\n",
       "      <td>2</td>\n",
       "      <td>3352</td>\n",
       "      <td>1170</td>\n",
       "    </tr>\n",
       "    <tr>\n",
       "      <th>236</th>\n",
       "      <td>2</td>\n",
       "      <td>2</td>\n",
       "      <td>3391</td>\n",
       "      <td>1120</td>\n",
       "    </tr>\n",
       "  </tbody>\n",
       "</table>\n",
       "<p>237 rows × 4 columns</p>\n",
       "</div>"
      ],
      "text/plain": [
       "     Gender  Age Range  Head Size(cm^3)  Brain Weight(grams)\n",
       "0         1          1             4512                 1530\n",
       "1         1          1             3738                 1297\n",
       "2         1          1             4261                 1335\n",
       "3         1          1             3777                 1282\n",
       "4         1          1             4177                 1590\n",
       "..      ...        ...              ...                  ...\n",
       "232       2          2             3214                 1110\n",
       "233       2          2             3394                 1215\n",
       "234       2          2             3233                 1104\n",
       "235       2          2             3352                 1170\n",
       "236       2          2             3391                 1120\n",
       "\n",
       "[237 rows x 4 columns]"
      ]
     },
     "execution_count": 2,
     "metadata": {},
     "output_type": "execute_result"
    }
   ],
   "source": [
    "d = pd.read_csv(\"https://raw.githubusercontent.com/AP-State-Skill-Development-Corporation/Datasets/master/Regression/headbrain.csv\")\n",
    "d"
   ]
  },
  {
   "cell_type": "code",
   "execution_count": 3,
   "id": "88ff890d",
   "metadata": {},
   "outputs": [
    {
     "data": {
      "image/png": "[encoded data removed]",
      "text/plain": [
       "<Figure size 432x288 with 1 Axes>"
      ]
     },
     "metadata": {
      "needs_background": "light"
     },
     "output_type": "display_data"
    }
   ],
   "source": [
    "plt.scatter(d[\"Head Size(cm^3)\"],d[\"Brain Weight(grams)\"])\n",
    "plt.show()\n",
    "\n"
   ]
  },
  {
   "cell_type": "code",
   "execution_count": 4,
   "id": "18acb24a",
   "metadata": {},
   "outputs": [],
   "source": [
    "x = d[['Head Size(cm^3)']]\n",
    "y = d[['Brain Weight(grams)']]"
   ]
  },
  {
   "cell_type": "code",
   "execution_count": 5,
   "id": "73b88bb4",
   "metadata": {},
   "outputs": [],
   "source": [
    "from sklearn.preprocessing import PolynomialFeatures"
   ]
  },
  {
   "cell_type": "code",
   "execution_count": 6,
   "id": "d2a4efb9",
   "metadata": {},
   "outputs": [],
   "source": [
    "poly = PolynomialFeatures(degree = 3)\n",
    "x_poly = poly.fit_transform(x)"
   ]
  },
  {
   "cell_type": "code",
   "execution_count": 7,
   "id": "8fe57178",
   "metadata": {},
   "outputs": [],
   "source": [
    "poly = PolynomialFeatures(degree = 3)\n",
    "x_poly = poly.fit_transform(x)"
   ]
  },
  {
   "cell_type": "code",
   "execution_count": 8,
   "id": "61d2ea46",
   "metadata": {},
   "outputs": [],
   "source": [
    "from sklearn.linear_model import LinearRegression"
   ]
  },
  {
   "cell_type": "code",
   "execution_count": 9,
   "id": "328ac926",
   "metadata": {},
   "outputs": [
    {
     "data": {
      "text/plain": [
       "LinearRegression()"
      ]
     },
     "execution_count": 9,
     "metadata": {},
     "output_type": "execute_result"
    }
   ],
   "source": [
    "model = LinearRegression()\n",
    "model.fit(x_poly,y)"
   ]
  },
  {
   "cell_type": "code",
   "execution_count": 10,
   "id": "b872bece",
   "metadata": {},
   "outputs": [
    {
     "data": {
      "text/plain": [
       "LinearRegression()"
      ]
     },
     "execution_count": 10,
     "metadata": {},
     "output_type": "execute_result"
    }
   ],
   "source": [
    "LinearRegression(copy_X=True, fit_intercept=True, n_jobs=None,\n",
    "         normalize=False)"
   ]
  },
  {
   "cell_type": "code",
   "execution_count": 11,
   "id": "d4d33f6b",
   "metadata": {},
   "outputs": [
    {
     "data": {
      "text/plain": [
       "array([[1506.69192887],\n",
       "       [1313.27584502],\n",
       "       [1439.53126348],\n",
       "       [1322.6935119 ],\n",
       "       [1418.57721582],\n",
       "       [1275.40778678],\n",
       "       [1324.61701619],\n",
       "       [1268.77977598],\n",
       "       [1282.47423808],\n",
       "       [1371.54440821],\n",
       "       [1238.30136756],\n",
       "       [1374.16268553],\n",
       "       [1289.22374179],\n",
       "       [1426.244466  ],\n",
       "       [1335.87159664],\n",
       "       [1346.35485044],\n",
       "       [1252.68761246],\n",
       "       [1244.47407663],\n",
       "       [1134.31688838],\n",
       "       [1482.20604279],\n",
       "       [1346.83054064],\n",
       "       [1386.81590695],\n",
       "       [1329.17554501],\n",
       "       [1306.46640745],\n",
       "       [1578.75634675],\n",
       "       [1481.93428959],\n",
       "       [1384.42263127],\n",
       "       [1381.07708651],\n",
       "       [1241.26216938],\n",
       "       [1418.08493515],\n",
       "       [1325.09749472],\n",
       "       [1327.25776724],\n",
       "       [1400.52916779],\n",
       "       [1414.64656383],\n",
       "       [1413.91145405],\n",
       "       [1331.56972993],\n",
       "       [1260.52719772],\n",
       "       [1315.69754785],\n",
       "       [1208.0269377 ],\n",
       "       [1251.37080183],\n",
       "       [1366.78842271],\n",
       "       [1254.78833427],\n",
       "       [1453.3369631 ],\n",
       "       [1329.17554501],\n",
       "       [1343.26140253],\n",
       "       [1383.94434953],\n",
       "       [1451.53054364],\n",
       "       [1157.09991423],\n",
       "       [1289.47257828],\n",
       "       [1290.21861419],\n",
       "       [1349.92131758],\n",
       "       [1326.53801173],\n",
       "       [1441.81225375],\n",
       "       [1390.89223161],\n",
       "       [1378.69063554],\n",
       "       [1242.33487668],\n",
       "       [1349.68363217],\n",
       "       [1415.87305101],\n",
       "       [1360.37369077],\n",
       "       [1296.40889236],\n",
       "       [1343.97551662],\n",
       "       [1224.63333307],\n",
       "       [1487.12145464],\n",
       "       [1437.51002954],\n",
       "       [1310.605929  ],\n",
       "       [1206.59414022],\n",
       "       [1230.69075981],\n",
       "       [1218.78452727],\n",
       "       [1483.83946818],\n",
       "       [1470.64153286],\n",
       "       [1377.73673494],\n",
       "       [1342.07085713],\n",
       "       [1404.89027913],\n",
       "       [1389.45234951],\n",
       "       [1333.96079881],\n",
       "       [1224.91020085],\n",
       "       [1268.52350876],\n",
       "       [1215.97571878],\n",
       "       [1359.18613047],\n",
       "       [1336.58770638],\n",
       "       [1335.39405975],\n",
       "       [1341.59450816],\n",
       "       [1183.08278099],\n",
       "       [1273.37543895],\n",
       "       [1359.89866145],\n",
       "       [1340.16498395],\n",
       "       [1200.82120395],\n",
       "       [1228.22118217],\n",
       "       [1255.05039592],\n",
       "       [1353.72313763],\n",
       "       [1414.40146258],\n",
       "       [1203.42736423],\n",
       "       [1294.68029602],\n",
       "       [1351.82247077],\n",
       "       [1304.02338362],\n",
       "       [1323.17463093],\n",
       "       [1246.33917149],\n",
       "       [1250.84323661],\n",
       "       [1292.70035417],\n",
       "       [1247.66760604],\n",
       "       [1252.16124724],\n",
       "       [1336.34902884],\n",
       "       [1346.35485044],\n",
       "       [1294.43306273],\n",
       "       [1283.72876175],\n",
       "       [1291.21223406],\n",
       "       [1383.46618707],\n",
       "       [1226.29233159],\n",
       "       [1355.86098323],\n",
       "       [1483.83946818],\n",
       "       [1302.79953552],\n",
       "       [1259.74784665],\n",
       "       [1271.84711792],\n",
       "       [1277.68694536],\n",
       "       [1221.85647724],\n",
       "       [1253.21350155],\n",
       "       [1276.42168051],\n",
       "       [1352.06007782],\n",
       "       [1403.19230371],\n",
       "       [1360.84872961],\n",
       "       [1226.29233159],\n",
       "       [1424.25897135],\n",
       "       [1499.89724523],\n",
       "       [1282.72531546],\n",
       "       [1388.01377053],\n",
       "       [1323.89600369],\n",
       "       [1224.07915364],\n",
       "       [1143.88714252],\n",
       "       [1388.49315576],\n",
       "       [1274.64637375],\n",
       "       [1295.66849902],\n",
       "       [1261.82390558],\n",
       "       [1386.81590695],\n",
       "       [1295.91536862],\n",
       "       [1047.83873446],\n",
       "       [1236.40880226],\n",
       "       [1326.05799028],\n",
       "       [1198.78461673],\n",
       "       [1137.3073929 ],\n",
       "       [1159.00327524],\n",
       "       [1272.10208277],\n",
       "       [1261.30555236],\n",
       "       [1160.26799097],\n",
       "       [1236.95021075],\n",
       "       [1352.77285612],\n",
       "       [1351.82247077],\n",
       "       [1226.84415858],\n",
       "       [1188.47256255],\n",
       "       [1240.4562649 ],\n",
       "       [1132.64744371],\n",
       "       [1230.14296422],\n",
       "       [1204.86931541],\n",
       "       [1299.11823062],\n",
       "       [1237.22071177],\n",
       "       [1340.87983763],\n",
       "       [1154.2306075 ],\n",
       "       [1192.03274908],\n",
       "       [1305.73414279],\n",
       "       [1377.25992144],\n",
       "       [1189.06774189],\n",
       "       [1126.25039754],\n",
       "       [1323.17463093],\n",
       "       [1265.95517418],\n",
       "       [1195.86047073],\n",
       "       [1252.68761246],\n",
       "       [1129.9642617 ],\n",
       "       [1182.78157974],\n",
       "       [1214.84783024],\n",
       "       [1328.93594446],\n",
       "       [1270.57081034],\n",
       "       [1150.70016579],\n",
       "       [1254.26386024],\n",
       "       [1271.84711792],\n",
       "       [1309.87662481],\n",
       "       [1282.97630624],\n",
       "       [1169.0286818 ],\n",
       "       [1281.46905702],\n",
       "       [1269.29200515],\n",
       "       [1370.83067166],\n",
       "       [1262.08291805],\n",
       "       [1301.32879791],\n",
       "       [1154.86971898],\n",
       "       [1377.02154792],\n",
       "       [1162.15882148],\n",
       "       [1247.93291895],\n",
       "       [1289.72133566],\n",
       "       [1287.23016842],\n",
       "       [1125.57207782],\n",
       "       [1224.91020085],\n",
       "       [1304.75693714],\n",
       "       [1157.09991423],\n",
       "       [1213.71742074],\n",
       "       [1101.5727112 ],\n",
       "       [1300.83802851],\n",
       "       [1268.01066769],\n",
       "       [1013.50048396],\n",
       "       [1121.82426651],\n",
       "       [1210.88025129],\n",
       "       [1251.63440368],\n",
       "       [1197.3247246 ],\n",
       "       [1215.41208852],\n",
       "       [1176.71769516],\n",
       "       [1191.44119219],\n",
       "       [1340.40328933],\n",
       "       [1124.89280742],\n",
       "       [1302.06445911],\n",
       "       [1227.11985347],\n",
       "       [1374.63896509],\n",
       "       [1203.42736423],\n",
       "       [ 990.68434144],\n",
       "       [1078.59479253],\n",
       "       [1274.13828818],\n",
       "       [1079.34061373],\n",
       "       [1097.63609288],\n",
       "       [1275.66140148],\n",
       "       [1154.2306075 ],\n",
       "       [1182.17861281],\n",
       "       [1158.68657351],\n",
       "       [1188.77024347],\n",
       "       [1223.52438057],\n",
       "       [1221.29930737],\n",
       "       [1050.60357479],\n",
       "       [1313.76059454],\n",
       "       [1247.93291895],\n",
       "       [1290.96394555],\n",
       "       [1307.92932455],\n",
       "       [1193.50850564],\n",
       "       [1425.25110312],\n",
       "       [1312.54832836],\n",
       "       [1173.65685206],\n",
       "       [1300.34699367],\n",
       "       [1305.00133076],\n",
       "       [1172.42703204],\n",
       "       [1224.91020085],\n",
       "       [1178.24083953],\n",
       "       [1213.15126508],\n",
       "       [1224.07915364]])"
      ]
     },
     "execution_count": 11,
     "metadata": {},
     "output_type": "execute_result"
    }
   ],
   "source": [
    "y_pred = model.predict(x_poly)\n",
    "y_pred"
   ]
  },
  {
   "cell_type": "code",
   "execution_count": 15,
   "id": "06e825dc",
   "metadata": {},
   "outputs": [
    {
     "name": "stdout",
     "output_type": "stream",
     "text": [
      "r2_score: 0.6416304461195703\n",
      "RMSE : 5167.94633153527\n"
     ]
    },
    {
     "data": {
      "text/plain": [
       "[0.6416304461195703,\n",
       " 0.6430704841260595,\n",
       " 0.6435112778593635,\n",
       " 0.6437052787942671,\n",
       " 0.6438594313982982,\n",
       " 0.6439528406059459,\n",
       " 0.6439714184736727,\n",
       " 0.6439060759009796,\n",
       " 0.6437475933363844,\n",
       " 0.6434804941379746,\n",
       " 0.6430781863443367,\n",
       " 0.6425008180099926,\n",
       " 0.6416961628759366]"
      ]
     },
     "execution_count": 15,
     "metadata": {},
     "output_type": "execute_result"
    }
   ],
   "source": [
    "from sklearn.metrics import r2_score,mean_squared_error\n",
    "print(\"r2_score:\",r2_score(y,y_pred))\n",
    "print(\"RMSE :\",(mean_squared_error(y,y_pred)))\n",
    "\n",
    "\n",
    "acc = []\n",
    "for i in range(2,15):\n",
    "    poly = PolynomialFeatures(degree = i)\n",
    "    x_poly = poly.fit_transform(x)\n",
    "    model = LinearRegression()\n",
    "    model.fit(x_poly,y)\n",
    "    y_pred = model.predict(x_poly)\n",
    "    acc.append(r2_score(y,y_pred))\n",
    "acc\n",
    "\n",
    "\n",
    "\n"
   ]
  },
  {
   "cell_type": "code",
   "execution_count": 16,
   "id": "22bf7f82",
   "metadata": {},
   "outputs": [
    {
     "data": {
      "image/png": "[encoded data removed]",
      "text/plain": [
       "<Figure size 432x288 with 1 Axes>"
      ]
     },
     "metadata": {
      "needs_background": "light"
     },
     "output_type": "display_data"
    }
   ],
   "source": [
    "plt.plot(np.arange(2,15),acc)\n",
    "plt.xlabel(\"Degree of Polynomial Features\")\n",
    "plt.ylabel(\"Accuracy\")\n",
    "plt.grid()\n",
    "plt.title(\"Predicting Non linear Data with Polynomial Features\")\n",
    "plt.show()\n",
    "\n"
   ]
  },
  {
   "cell_type": "code",
   "execution_count": null,
   "id": "4d5da1ac",
   "metadata": {},
   "outputs": [],
   "source": []
  }
 ],
 "metadata": {
  "kernelspec": {
   "display_name": "Python 3",
   "language": "python",
   "name": "python3"
  },
  "language_info": {
   "codemirror_mode": {
    "name": "ipython",
    "version": 3
   },
   "file_extension": ".py",
   "mimetype": "text/x-python",
   "name": "python",
   "nbconvert_exporter": "python",
   "pygments_lexer": "ipython3",
   "version": "3.8.8"
  }
 },
 "nbformat": 4,
 "nbformat_minor": 5
}
