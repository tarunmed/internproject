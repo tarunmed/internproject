{
 "cells": [
  {
   "cell_type": "markdown",
   "id": "10d497fe",
   "metadata": {},
   "source": [
    "# * Take input from the user\n",
    "* Check the length of the string even or odd\n",
    "* If the string length is odd access one middle character\n",
    "* If the string length is even access two middle characters\n",
    "\n",
    "\n",
    "\n",
    "\n",
    "\n"
   ]
  },
  {
   "cell_type": "code",
   "execution_count": 2,
   "id": "f8b20504",
   "metadata": {},
   "outputs": [
    {
     "name": "stdout",
     "output_type": "stream",
     "text": [
      "Enter String: tarunmed\n",
      "8\n",
      "Even String\n",
      "Middle letters: u n\n"
     ]
    }
   ],
   "source": [
    "#Odd case\n",
    "string=str(input(\"Enter String: \"))\n",
    "strg=len(string)//2\n",
    "print(len(string))\n",
    "if len(string)%2==0:\n",
    "    print(\"Even String\")\n",
    "    print(\"Middle letters:\",string[len(string)//2-1],string[len(string)//2])\n",
    "else:\n",
    "    print(\"Odd String\")\n",
    "    if len(string)%2!=0:\n",
    "        print(\"Middle letter:\",string[len(string)//2])"
   ]
  },
  {
   "cell_type": "code",
   "execution_count": 3,
   "id": "c2dc61ba",
   "metadata": {},
   "outputs": [
    {
     "name": "stdout",
     "output_type": "stream",
     "text": [
      "Enter String: viratkohli\n",
      "10\n",
      "Even String\n",
      "Middle letters: t k\n"
     ]
    }
   ],
   "source": [
    "#Even case\n",
    "string=str(input(\"Enter String: \"))\n",
    "strg=len(string)//2\n",
    "print(len(string))\n",
    "if len(string)%2==0:\n",
    "    print(\"Even String\")\n",
    "    print(\"Middle letters:\",string[len(string)//2-1],string[len(string)//2])\n",
    "else:\n",
    "    print(\"Odd String\")\n",
    "    if len(string)%2!=0:\n",
    "        print(\"Middle letter:\",string[len(strng)//2])"
   ]
  },
  {
   "cell_type": "code",
   "execution_count": null,
   "id": "3ced96e2",
   "metadata": {},
   "outputs": [],
   "source": []
  }
 ],
 "metadata": {
  "kernelspec": {
   "display_name": "Python 3",
   "language": "python",
   "name": "python3"
  },
  "language_info": {
   "codemirror_mode": {
    "name": "ipython",
    "version": 3
   },
   "file_extension": ".py",
   "mimetype": "text/x-python",
   "name": "python",
   "nbconvert_exporter": "python",
   "pygments_lexer": "ipython3",
   "version": "3.8.8"
  }
 },
 "nbformat": 4,
 "nbformat_minor": 5
}
