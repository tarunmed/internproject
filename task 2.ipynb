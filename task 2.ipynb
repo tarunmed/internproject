{
 "cells": [
  {
   "cell_type": "code",
   "execution_count": 1,
   "id": "b3613a51",
   "metadata": {},
   "outputs": [
    {
     "name": "stdout",
     "output_type": "stream",
     "text": [
      "1804\n",
      "1808\n",
      "1812\n",
      "1816\n",
      "1820\n",
      "1824\n",
      "1828\n",
      "1832\n",
      "1836\n",
      "1840\n",
      "1844\n",
      "1848\n",
      "1852\n",
      "1856\n",
      "1860\n",
      "1864\n",
      "1868\n",
      "1872\n",
      "1876\n",
      "1880\n",
      "1884\n",
      "1888\n",
      "1892\n",
      "1896\n",
      "1904\n",
      "1908\n",
      "1912\n",
      "1916\n",
      "1920\n",
      "1924\n",
      "1928\n",
      "1932\n",
      "1936\n",
      "1940\n",
      "1944\n",
      "1948\n",
      "1952\n",
      "1956\n",
      "1960\n",
      "1964\n",
      "1968\n",
      "1972\n",
      "1976\n",
      "1980\n",
      "1984\n",
      "1988\n",
      "1992\n",
      "1996\n",
      "2000\n",
      "2004\n",
      "2008\n",
      "2012\n",
      "2016\n",
      "2020\n"
     ]
    }
   ],
   "source": [
    "#Find all the leap years between 1800 and 2020\n",
    "for x in range(1800,2021):\n",
    "    if (x%4==0 and x%100!=0) or x%400==0:\n",
    "        print(x)"
   ]
  },
  {
   "cell_type": "code",
   "execution_count": 2,
   "id": "ec741ad0",
   "metadata": {},
   "outputs": [
    {
     "name": "stdout",
     "output_type": "stream",
     "text": [
      "Enter the roll number:  21\n",
      "ECE Department\n"
     ]
    }
   ],
   "source": [
    "#Take last three vaues of roll number \n",
    "#if values starts with \"01\"-\"CSE Department\"\n",
    "#elif values starts with \"11\"-\"IT Department\"\n",
    "#elif values starts with \"21\"-\"ECE Department\"\n",
    "#else \"not a student of SRM\"\n",
    "\n",
    "\n",
    "x=input(\"Enter the roll number:  \")\n",
    "if x[-3:].startswith(\"01\"):\n",
    "      print(\"CSE Department\")\n",
    "elif x[-3:].startswith(\"11\"):\n",
    "    print(\"IT Department\")\n",
    "elif x[-3:].startswith(\"21\"):\n",
    "    print(\"ECE Department\")\n",
    "else:\n",
    "    print(\"not a student of SRM\")"
   ]
  },
  {
   "cell_type": "code",
   "execution_count": null,
   "id": "2a0c9f43",
   "metadata": {},
   "outputs": [],
   "source": []
  },
  {
   "cell_type": "code",
   "execution_count": null,
   "id": "4e6025db",
   "metadata": {},
   "outputs": [],
   "source": []
  },
  {
   "cell_type": "code",
   "execution_count": null,
   "id": "0d87b325",
   "metadata": {},
   "outputs": [],
   "source": []
  },
  {
   "cell_type": "code",
   "execution_count": null,
   "id": "5e95a236",
   "metadata": {},
   "outputs": [],
   "source": []
  },
  {
   "cell_type": "code",
   "execution_count": null,
   "id": "04cb6fd9",
   "metadata": {},
   "outputs": [],
   "source": []
  },
  {
   "cell_type": "code",
   "execution_count": null,
   "id": "4573d37c",
   "metadata": {},
   "outputs": [],
   "source": []
  }
 ],
 "metadata": {
  "kernelspec": {
   "display_name": "Python 3",
   "language": "python",
   "name": "python3"
  },
  "language_info": {
   "codemirror_mode": {
    "name": "ipython",
    "version": 3
   },
   "file_extension": ".py",
   "mimetype": "text/x-python",
   "name": "python",
   "nbconvert_exporter": "python",
   "pygments_lexer": "ipython3",
   "version": "3.8.8"
  }
 },
 "nbformat": 4,
 "nbformat_minor": 5
}
