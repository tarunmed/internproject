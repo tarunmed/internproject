{
 "cells": [
  {
   "cell_type": "markdown",
   "id": "a02c2a62",
   "metadata": {},
   "source": [
    "# Write a python program that takes two lists and returns true if they have atleast one common member"
   ]
  },
  {
   "cell_type": "code",
   "execution_count": 1,
   "id": "f29a74b4",
   "metadata": {},
   "outputs": [
    {
     "name": "stdout",
     "output_type": "stream",
     "text": [
      "Enter elements into list1: 1 2  3 4 5\n",
      "Enter elements into list2 : 6 7 8 9 10\n",
      "False\n"
     ]
    }
   ],
   "source": [
    "list_1 = []\n",
    "list_1 = input(\"Enter elements into list1: \").split()\n",
    "list_2 = []\n",
    "list_2 = input(\"Enter elements into list2 : \").split()\n",
    "result = False\n",
    "for i in list_1:\n",
    "    if i in list_2:\n",
    "        result = True\n",
    "        break\n",
    "print(result)"
   ]
  },
  {
   "cell_type": "code",
   "execution_count": null,
   "id": "e4abc24e",
   "metadata": {},
   "outputs": [],
   "source": []
  }
 ],
 "metadata": {
  "kernelspec": {
   "display_name": "Python 3",
   "language": "python",
   "name": "python3"
  },
  "language_info": {
   "codemirror_mode": {
    "name": "ipython",
    "version": 3
   },
   "file_extension": ".py",
   "mimetype": "text/x-python",
   "name": "python",
   "nbconvert_exporter": "python",
   "pygments_lexer": "ipython3",
   "version": "3.8.8"
  }
 },
 "nbformat": 4,
 "nbformat_minor": 5
}
